{
  "nbformat": 4,
  "nbformat_minor": 0,
  "metadata": {
    "colab": {
      "provenance": [],
      "include_colab_link": true
    },
    "kernelspec": {
      "display_name": "Python 3",
      "language": "python",
      "name": "python3"
    },
    "language_info": {
      "codemirror_mode": {
        "name": "ipython",
        "version": 3
      },
      "file_extension": ".py",
      "mimetype": "text/x-python",
      "name": "python",
      "nbconvert_exporter": "python",
      "pygments_lexer": "ipython3",
      "version": "3.8.5"
    }
  },
  "cells": [
    {
      "cell_type": "markdown",
      "metadata": {
        "id": "view-in-github",
        "colab_type": "text"
      },
      "source": [
        "<a href=\"https://colab.research.google.com/github/antfolk/BMEN30/blob/main/EMG_decomposition_tutorial/BMEN30_EMG_decomposition_tutorial.ipynb\" target=\"_parent\"><img src=\"https://colab.research.google.com/assets/colab-badge.svg\" alt=\"Open In Colab\"/></a>"
      ]
    },
    {
      "cell_type": "markdown",
      "metadata": {
        "id": "P7lN7PghNJZG"
      },
      "source": [
        "# Tutorial: Decomposition of EMG\n",
        "## Background\n",
        "Electromyography (EMG) is the recording of electrical activity of muscles specifically. Muscles are made up of individual motor units which are each controlled by a motor neuron. The motor neuron relays action potentials to all muscle fibers in a motor unit. Hundreds of fibers can make up a motor unit, depending on the muscle. The action potential continues throughout the fibers, generally from the center to the tendons on both ends. Since there are so many fibers in one motor unit, each action potential is amplified, to the point where they can be recorded on the skin surface. \n",
        "\n",
        "Recording and analyzing motor units is important in several areas. In neurology, insight to diseases can be gained since the motor units are directly connected to the nervous system. For prosthetic control, better understanding of the EMG signal is important to create a more natural way of controlling, for example,a prosthetic hand. This tutorial stems from a project focused on rehabilitation. Our aim is to track the recovery of motor units in stroke patients over time. This would provide valuable data for improving the progression of rehabilitation of patients who've lost motor control.\n",
        "\n",
        "A recording on the skin, surface EMG (sEMG), picks up a noisy mix of many motor units at once, due to the distance to the muscle at the skin surface. In contrast, an intramuscluar recording (iEMG) is far more local. Individual units and action potential firings are more easily discerned. But invasive recordings, such as iEMG, bring several complications. There is risk of infection, damage to the muscle, and it may be nausiating or uncomfortable for the subject. By using sEMG, we avoid the issues of iEMG, but we need to solve a more complicated signal separation problem instead.\n",
        "\n",
        "## Decomposition\n",
        "The purpose of decomposition is to separate mixed signals into the underlying sources. In this tutorial we will use Independent Component Analysis (ICA), which will briefly be summarized later. ICA requires a large number of simultaneous observations. We have a dataset of simultaneous iEMG and high-density sEMG (HD-sEMG). The HD-sEMG contains an array of 64 electrodes (8-by-8). Using ICA, we will estimate sources from the HD-sEMG data, and compare them to the iEMG signal.\n",
        "\n",
        "\n",
        "## Practical issues\n",
        "This tutorial is meant to be run on Googles colab. \n",
        "\n",
        "#### Import\n",
        "Numpy and scipy are used to handle the data, and matplotlib to plot the data and the results."
      ]
    },
    {
      "cell_type": "code",
      "metadata": {
        "id": "grUoiF4GNiAC"
      },
      "source": [
        "import numpy as np\n",
        "import scipy.io as scp\n",
        "import matplotlib.pyplot as plt"
      ],
      "execution_count": null,
      "outputs": []
    },
    {
      "cell_type": "markdown",
      "metadata": {
        "id": "_5RRw6Ix7JdL"
      },
      "source": [
        "Upload both data files for iEMG and sEMG. If you are using Google Colab you can use the below-mentioned commands. If you are using a local version of Python and/or Jupyter notebooks and have the the datafiles in the same folder you can skip the following step"
      ]
    },
    {
      "cell_type": "code",
      "metadata": {
        "id": "BmnjL2X069xh"
      },
      "source": [
        "from google.colab import files\n",
        "file = files.upload()"
      ],
      "execution_count": null,
      "outputs": []
    },
    {
      "cell_type": "markdown",
      "metadata": {
        "id": "Ev5h7PU7Nlyg"
      },
      "source": [
        "## Data\n",
        "This recording was done on the flexor digitorum profundus. A muscle on the medial side of the forearm, which flexes the fingers. The iEMG was recorded with a wire electrode inside the muscle. The HD-sEMG array was placed on top, covering almost a square decimeter of the skin. The files contain 25 seconds data, at 2048 samples per second, extracted from a larger set. The frequency range of interest for sEMG is in the 5-500 Hz range. A lot of noise is removed just by filtering the data. iEMG is commonly low-pass filtered at 1 kHz, but for the sake of simplicity, both files are pre-filtered with a bandpass filter at 5-500 Hz.\n",
        "\n",
        "An additional method of reducing noise is to use a differential setup. In a differential setup, each electrode measures the difference to the next neighbour, instead of using a single reference electrode. This has a large impact on noise but also changes the signal itself. It also means we end up with 63 observations instead of 64, since the last electrode has no next neighbour.\n"
      ]
    },
    {
      "cell_type": "code",
      "metadata": {
        "id": "HikZ4sfzNseJ"
      },
      "source": [
        "samplerate = 2048\n",
        "sEMG = scp.loadmat('sEMG_data.mat')['sData'].T\n",
        "iEMG = scp.loadmat('iEMG_data.mat')['iData']\n",
        "Time = np.arange(303, 328, 1/samplerate)"
      ],
      "execution_count": null,
      "outputs": []
    },
    {
      "cell_type": "markdown",
      "metadata": {
        "id": "V8TMzMVqNugJ"
      },
      "source": [
        "# Plot surface EMG\n",
        "We start off by comparing the different signals. An example electrode of sEMG is chosen below. Start and End values determine the window of the plot, which can't exceed 303-328 seconds (the real time of the recording). Test by plotting different channels by changing electrode (acceptable values are between 0-62). Note the general qualities of the signal, i.e. the noise level, how are spikes distributed, do they vary a lot?"
      ]
    },
    {
      "cell_type": "code",
      "metadata": {
        "id": "4eP8g7CYNzct"
      },
      "source": [
        "Electrode = 33 # Test by selecting different EMG channels/electrodes\n",
        "Start = 303\n",
        "End = 328\n",
        "\n",
        "# Plot sEMG in the selected window\n",
        "TimeS = np.arange(int((Start-303)*samplerate), int((End-303)*samplerate))\n",
        "plt.figure()\n",
        "plt.plot(Time[TimeS], sEMG[Electrode, TimeS])\n",
        "plt.show()"
      ],
      "execution_count": null,
      "outputs": []
    },
    {
      "cell_type": "markdown",
      "metadata": {
        "id": "KZnqdPNeN2vl"
      },
      "source": [
        "# Plot intramuscular EMG\n",
        "Plot the iEMG and compare the qualities to sEMG. Select a smaller window (start and end points) to see distinct spikes."
      ]
    },
    {
      "cell_type": "code",
      "metadata": {
        "id": "OkjjTxTIN74c"
      },
      "source": [
        "Start = 303\n",
        "End = 328\n",
        "\n",
        "# Plot iEMG in the selected window\n",
        "TimeS = np.arange(int((Start-303)*samplerate), int((End-303)*samplerate))\n",
        "plt.figure()\n",
        "plt.plot(Time[TimeS], iEMG[TimeS])\n",
        "plt.show()"
      ],
      "execution_count": null,
      "outputs": []
    },
    {
      "cell_type": "markdown",
      "metadata": {
        "id": "7C_nueAgN-Dm"
      },
      "source": [
        "# Independent Component Analysis\n",
        "ICA is a signal separation technique which works for many types of mixed signals where there are multiple observations. At each observation (in our case every electrode) the contribution of the underlying sources differ. This difference is what makes ICA work. The algorithm itself is an iterative search which continously updates a de-mixing matrix. The algorithm estimates the sources, and moves in the direction which maximizes statistical independence. It iterates until it convergences at a tolerance level or reaches a maximum number of iterations.\n",
        "\n",
        "This ICA algorithm estimates a pre-determined number of sources at once. The entire function is included below. The last line of the block calls the function, which is the 'run_ica()' command. Try different numbers of sources as input (between 1-10 are good values). Note the differences in speed. You will see the iteration count, followed by a delta value. The delta value signifies the difference to the previous iteration to determine if the algorithm has converged. The algorithm uses a random starting point which means you may or may not get the same sources each time you run the algorithm."
      ]
    },
    {
      "cell_type": "code",
      "metadata": {
        "id": "bxgsAtRhmi8v"
      },
      "source": [
        "def run_ica(x, samplerate, sources, gradient_type, extension):\n",
        "\n",
        "    ########################## Constants\n",
        "    ##### Convergence tolerance\n",
        "    tolerance = 1e-6\n",
        "    ##### Maximum iterations\n",
        "    iterations = 500\n",
        "    ##### Data points\n",
        "    n = np.size(x, 1)\n",
        "\n",
        "    ########################## Extension & Demixing matrix\n",
        "    if 'extension' in locals() and extension > 1:\n",
        "        print('Extending data..')\n",
        "        ##### Sample gap\n",
        "        gap = int(samplerate/np.power(2, 9))\n",
        "        ##### Extension\n",
        "        x_extended = x.copy()\n",
        "        for i in range(extension-1):\n",
        "            padding = np.zeros((np.size(x, 0), gap*(i+1)))\n",
        "            x_padded = np.hstack((padding, x[:, 0:-gap*(i+1)]))\n",
        "            x_extended = np.vstack((x_extended, x_padded))\n",
        "        x = x_extended\n",
        "\n",
        "        ##### Initialize W extended\n",
        "        w = np.random.rand(sources, np.size(x, 0))\n",
        "    else:\n",
        "        ##### Initialize W\n",
        "        w = np.random.rand(sources, np.size(x, 0))\n",
        "    ##### Normalize W\n",
        "    w = w/np.sqrt(np.sum(np.power(w, 2), axis=1, keepdims=True))\n",
        "\n",
        "    ########################## Centering and whitening\n",
        "    print('Whitening data..')\n",
        "    ##### Centering rows\n",
        "    x_mean = x.mean(1, keepdims=True)\n",
        "    x_centered = x-x_mean\n",
        "    ##### Whitening\n",
        "    r_cov = np.cov(x_centered)\n",
        "    u_cov, s_cov, v_cov = np.linalg.svd(r_cov, hermitian=True)\n",
        "    v = u_cov @ (np.diag(1/np.sqrt(s_cov)) @ u_cov.T)\n",
        "    z = v @ x_centered\n",
        "\n",
        "    ########################## ICA loop\n",
        "    if 'gradient_type' not in locals():\n",
        "        gradient_type = 'negentropy'\n",
        "    print('ICA loop..')\n",
        "    for i in range(iterations):\n",
        "        ##### Previous W\n",
        "        wlast = w.copy()\n",
        "        ##### Current source estimate\n",
        "        y = w @ z\n",
        "\n",
        "        if gradient_type == 'negentropy':\n",
        "            ##### Gradient function\n",
        "            g = y*np.exp(-0.5*np.power(y, 2))\n",
        "            dg = (1-np.power(y, 2))*np.exp(-0.5*np.power(y, 2))\n",
        "\n",
        "            ##### Update W\n",
        "            w = (g @ z.transpose())/n - dg.mean(axis=1, keepdims=True)*w\n",
        "            ##### Normalize W\n",
        "            w = w/np.sqrt(np.sum(np.power(w, 2), axis=1, keepdims=True))\n",
        "            ##### Decorrelate W\n",
        "            u_w, s_w, v_w = np.linalg.svd(w)\n",
        "            w = u_w @ np.diag(1/s_w) @ u_w.T @ w\n",
        "        else:\n",
        "            print('No gradient type')\n",
        "            return\n",
        "\n",
        "        ##### Check convergence\n",
        "        delta = np.max(1-np.abs(np.sum(w*wlast, axis=1)))\n",
        "        if np.mod(i, 50) == 0:\n",
        "            print(i, '=>', delta)\n",
        "        if delta < tolerance:\n",
        "            y = w @ z\n",
        "            print(i, '=>', delta)\n",
        "            print('Converged.')\n",
        "            return y, w, v, x_mean\n",
        "\n",
        "    ########################## Output\n",
        "    y = w @ z\n",
        "    print('Did not converge.')\n",
        "    return y, w, v, x_mean\n",
        "\n",
        "\n",
        "##### Call run_ica function\n",
        "ICs, w, v, mu = run_ica(sEMG, samplerate, sources=5, gradient_type='negentropy', extension=1)"
      ],
      "execution_count": null,
      "outputs": []
    },
    {
      "cell_type": "markdown",
      "metadata": {
        "id": "6bm1-5DhOM6K"
      },
      "source": [
        "# Plot ICA sources\n",
        "The output sources of ICA can only be estimated down to a scaling factor and the sign. The sources are therefore always normalized. It is an inherent limitation of the method. Artifacts in the data are also picked up by the algorithm as independent sources. This can be bothersome but also useful if you want to somehow remove them from your data.\n",
        "\n",
        "It's important to understand that the basic ICA model is a rough estimation of actual muscle activity. It is not complex enough to fully estimate the motor units due to their cylindrical shape. The the action potentials move through the fibers, and in two directions. As a result the signal changes somewhat over time. It is therefore likely, that you end up with multiples of a source that infact correspond to different instances in time.\n",
        "\n"
      ]
    },
    {
      "cell_type": "code",
      "metadata": {
        "id": "BZHUYX--OQNo"
      },
      "source": [
        "Start = 303\n",
        "End = 328\n",
        "\n",
        "# Plot sources in the selected window\n",
        "TimeS = np.arange(int((Start-303)*samplerate), int((End-303)*samplerate))\n",
        "for i in range(np.size(ICs, 0)):\n",
        "    plt.figure()\n",
        "    plt.plot(Time[TimeS], ICs[i, TimeS])\n",
        "plt.show()"
      ],
      "execution_count": null,
      "outputs": []
    },
    {
      "cell_type": "markdown",
      "metadata": {
        "id": "LztMKyvtOUZF"
      },
      "source": [
        "# Compare spikes from ICA and iEMG\n",
        "Plot the recorded iEMG on top of the extracted sources below and try to find a source which matches the iEMG. Focus on the time instance of the spikes. If you can't find a source with consistently matching spikes, you can run the algorithm again for a new estimation of sources, or increase the number of sources estimated."
      ]
    },
    {
      "cell_type": "code",
      "metadata": {
        "id": "NSOVmIb3Obgx"
      },
      "source": [
        "Start = 303\n",
        "End = 311\n",
        "\n",
        "# Plot sources and iEMG in the selected window\n",
        "TimeS = np.arange(int((Start-303)*samplerate), int((End-303)*samplerate))\n",
        "for i in range(np.size(ICs, 0)):\n",
        "    plt.figure()\n",
        "    plt.plot(Time[TimeS], ICs[i, TimeS])\n",
        "    plt.plot(Time[TimeS], iEMG[TimeS]*10)\n",
        "plt.show()"
      ],
      "execution_count": null,
      "outputs": []
    },
    {
      "cell_type": "code",
      "metadata": {
        "id": "7BpATF2FHoVF"
      },
      "source": [],
      "execution_count": null,
      "outputs": []
    },
    {
      "cell_type": "markdown",
      "metadata": {
        "id": "oZs__enfFNj9"
      },
      "source": [
        "**Please write some comments on this tutorial in this cell. After you have commented the tutorial, download it as .ipynb and hand it in using Canvas.**"
      ]
    },
    {
      "cell_type": "code",
      "metadata": {
        "id": "K9vn7ApJ8KDt"
      },
      "source": [],
      "execution_count": null,
      "outputs": []
    }
  ]
}